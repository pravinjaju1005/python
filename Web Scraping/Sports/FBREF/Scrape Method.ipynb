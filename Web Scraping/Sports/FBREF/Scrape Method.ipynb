{
 "cells": [
  {
   "cell_type": "code",
   "execution_count": null,
   "id": "94606cb7",
   "metadata": {},
   "outputs": [],
   "source": [
    "# import requests\n",
    "# from bs4 import BeautifulSoup\n",
    "\n",
    "# # Define the URL of the website\n",
    "# url = \"https://www.census2011.co.in/data/village/515519-matirala-gujarat.html\"\n",
    "\n",
    "# # Send an HTTP GET request to the URL\n",
    "# response = requests.get(url)\n",
    "\n",
    "# # Check if the request was successful (status code 200)\n",
    "# if response.status_code == 200:\n",
    "#     # Parse the HTML content of the page\n",
    "#     soup = BeautifulSoup(response.text, 'html.parser')\n",
    "\n",
    "#     # Find the div with class \"table-responsive\"\n",
    "#     table_div = soup.find('div', class_='table-responsive')\n",
    "\n",
    "#     # Check if the table div was found\n",
    "#     if table_div:\n",
    "#         # Find the first table within the div\n",
    "#         table = table_div.find('table')\n",
    "\n",
    "#         # Check if the table was found\n",
    "#         if table:\n",
    "#             # Find all rows within the table's tbody\n",
    "#             rows = table.find('tbody').find_all('tr')\n",
    "\n",
    "#             # Iterate through rows and extract data\n",
    "#             for row in rows:\n",
    "#                 # Find all columns within the row\n",
    "#                 columns = row.find_all('td')\n",
    "\n",
    "#                 # Extract and print the text from each column\n",
    "#                 for column in columns:\n",
    "#                     print(column.get_text(strip=True))\n",
    "\n",
    "#         else:\n",
    "#             print(\"Table not found within the div.\")\n",
    "#     else:\n",
    "#         print(\"Div with class 'table-responsive' not found on the page.\")\n",
    "# else:\n",
    "#     print(\"Failed to retrieve the web page. Status code:\", response.status_code)\n"
   ]
  }
 ],
 "metadata": {
  "kernelspec": {
   "display_name": "Python 3 (ipykernel)",
   "language": "python",
   "name": "python3"
  },
  "language_info": {
   "codemirror_mode": {
    "name": "ipython",
    "version": 3
   },
   "file_extension": ".py",
   "mimetype": "text/x-python",
   "name": "python",
   "nbconvert_exporter": "python",
   "pygments_lexer": "ipython3",
   "version": "3.9.7"
  }
 },
 "nbformat": 4,
 "nbformat_minor": 5
}
