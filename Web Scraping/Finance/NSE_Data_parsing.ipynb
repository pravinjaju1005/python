{
 "cells": [
  {
   "cell_type": "code",
   "execution_count": 33,
   "id": "3fa079ed-69b6-4366-aed6-efe3bd802d76",
   "metadata": {},
   "outputs": [],
   "source": [
    "# from pandas_datareader import data as pdr\n",
    "\n",
    "# import yfinance as yf\n",
    "# yf.pdr_override() # <== that's all it takes :-)\n",
    "\n",
    "# # download dataframe\n",
    "# data = pdr.get_data_yahoo(\"NIFTY100.BO\", start=\"2023-01-01\", end=\"2024-09-30\")"
   ]
  },
  {
   "cell_type": "code",
   "execution_count": 17,
   "id": "deabf890-c4fe-4bcd-b209-d27458070484",
   "metadata": {},
   "outputs": [],
   "source": [
    "# import yfinance as yf\n",
    "# import pandas as pd\n",
    "\n",
    "# # Define the ticker symbol for the NIFTY 50 index\n",
    "# ticker = '^NSEI'  # Replace with the correct ticker if different\n",
    "\n",
    "# # Create a Ticker object\n",
    "# nifty_index = yf.Ticker(ticker)\n",
    "\n",
    "# # Fetch historical data\n",
    "# # Adjust the start and end dates as needed\n",
    "# historical_data = nifty_index.history(start='2023-01-01', end='2024-01-01')\n",
    "\n",
    "# # Display the first few rows of the data\n",
    "# historical_data.head()"
   ]
  },
  {
   "cell_type": "code",
   "execution_count": 3,
   "id": "8afc896d-0f62-4c94-91ae-f97394319e00",
   "metadata": {},
   "outputs": [],
   "source": [
    "# Library for opening url and creating requests\n",
    "import urllib.request\n",
    "from pprint import pprint\n",
    "from html_table_parser.parser import HTMLTableParser\n",
    "import pandas as pd\n",
    "import json"
   ]
  },
  {
   "cell_type": "code",
   "execution_count": 5,
   "id": "e0f0a337-acac-4d45-8a36-8c027d76c019",
   "metadata": {},
   "outputs": [],
   "source": [
    "# Opens a website and read its binary contents (HTTP Response Body)\n",
    "def url_get_contents(url):\n",
    "\n",
    "    # Opens a website and read its binary contents (HTTP Response Body)\n",
    "    headers = {'User-Agent':'Mozilla/5.0 (Windows NT 10.0; Win64; x64) AppleWebKit/537.36 (KHTML, like Gecko) Chrome/119.0.0.0 Safari/537.36'}\n",
    "    #making request to the website\n",
    "    req = urllib.request.Request(url=url,headers=headers)\n",
    "    f = urllib.request.urlopen(req)\n",
    "\n",
    "    #reading contents of the website\n",
    "    return f.read()"
   ]
  },
  {
   "cell_type": "code",
   "execution_count": 7,
   "id": "cd2e333f-b8ca-4aa0-9102-df047c59f223",
   "metadata": {},
   "outputs": [],
   "source": [
    "# Converting Top 2 rows as header\n",
    "def header_convert(df):\n",
    "    # Combine the top 2 rows into a single header row\n",
    "    new_header = df.iloc[0].fillna('')  \n",
    "    df = df[1:]  # Exclude the first two rows\n",
    "\n",
    "    # Assign the combined row as the new header\n",
    "    df.columns = new_header\n",
    "\n",
    "    # Reset the DataFrame index if needed\n",
    "    df.reset_index(drop=True, inplace=True)\n",
    "    \n",
    "    return df"
   ]
  },
  {
   "cell_type": "code",
   "execution_count": 9,
   "id": "ae7a0048-b7e9-4bff-b90f-5a5fe9e7d704",
   "metadata": {},
   "outputs": [],
   "source": [
    "# Link = \"https://www.niftyindices.com/reports/historical-data\"\n",
    "# Link = \"https://www.niftyindices.com/Backpage.aspx/gethistoricaltypeindexdata\"\n",
    "# Link = \"https://www.niftyindices.com/Backpage.aspx/getHistoricaldatatabletoString\"\n",
    "Link = \"https://iislliveblob.niftyindices.com/assets/json/IndexMapping.json?{}\""
   ]
  },
  {
   "cell_type": "code",
   "execution_count": 11,
   "id": "584a6cc4-5756-4413-a008-da4a20d006a0",
   "metadata": {},
   "outputs": [],
   "source": [
    "# defining the html contents of a URL.\n",
    "xhtml = url_get_contents(Link).decode('utf-8')\n",
    "\n",
    "# Defining the HTMLTableParser object\n",
    "p = HTMLTableParser()\n",
    "\n",
    "# feeding the html contents in the HTMLTableParser object\n",
    "p.feed(xhtml)"
   ]
  },
  {
   "cell_type": "code",
   "execution_count": 23,
   "id": "d8749833-7bbc-4d48-b453-53e830e3e951",
   "metadata": {},
   "outputs": [],
   "source": [
    "# Remove BOM character if present\n",
    "json_string = xhtml.lstrip('\\ufeff')\n",
    "\n",
    "# Parse the JSON string\n",
    "try:\n",
    "    data = json.loads(json_string)\n",
    "    \n",
    "except json.JSONDecodeError as e:\n",
    "    print(f\"Error parsing JSON: {e}\")\n",
    "\n",
    "# Extract only the \"Trading_Index_Name\" values\n",
    "trading_index_names = [item['Trading_Index_Name'] for item in data]"
   ]
  },
  {
   "cell_type": "code",
   "execution_count": null,
   "id": "e4328ce0-608b-496d-840b-1afcfb0e2504",
   "metadata": {},
   "outputs": [],
   "source": [
    "# Shots Summary\n",
    "df = pd.DataFrame(p.tables[1])\n",
    "df = header_convert(df)"
   ]
  },
  {
   "cell_type": "code",
   "execution_count": null,
   "id": "e884aac9-318d-4464-b16b-0229e5944aa0",
   "metadata": {},
   "outputs": [],
   "source": []
  }
 ],
 "metadata": {
  "kernelspec": {
   "display_name": "Python 3 (ipykernel)",
   "language": "python",
   "name": "python3"
  },
  "language_info": {
   "codemirror_mode": {
    "name": "ipython",
    "version": 3
   },
   "file_extension": ".py",
   "mimetype": "text/x-python",
   "name": "python",
   "nbconvert_exporter": "python",
   "pygments_lexer": "ipython3",
   "version": "3.9.19"
  }
 },
 "nbformat": 4,
 "nbformat_minor": 5
}
