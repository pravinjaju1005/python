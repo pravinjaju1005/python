{
 "cells": [
  {
   "cell_type": "code",
   "execution_count": 1,
   "id": "94816119",
   "metadata": {},
   "outputs": [
    {
     "name": "stderr",
     "output_type": "stream",
     "text": [
      "[*********************100%%**********************]  1 of 1 completed\n"
     ]
    }
   ],
   "source": [
    "import yfinance as yf\n",
    "import pandas as pd\n",
    "import datetime\n",
    "\n",
    "# Get tomorrow's date\n",
    "tomorrow = datetime.date.today() + datetime.timedelta(days=1)\n",
    "tomorrow_str = tomorrow.strftime('%Y-%m-%d')\n",
    "\n",
    "# Download historical data for HDFC Bank as a pandas DataFrame\n",
    "df_hdfc = yf.download('HDFCBANK.BO', start='2024-01-01', end=tomorrow_str)\n",
    "\n",
    "# Print the first few rows of the DataFrame\n",
    "# print(df_hdfc.head())"
   ]
  },
  {
   "cell_type": "code",
   "execution_count": 4,
   "id": "6e202ab7",
   "metadata": {},
   "outputs": [],
   "source": [
    "# df_hdfc.to_excel('hdfc_bank_2024_today.xlsx')"
   ]
  },
  {
   "cell_type": "code",
   "execution_count": 7,
   "id": "f19fc0da",
   "metadata": {},
   "outputs": [
    {
     "data": {
      "text/html": [
       "<div>\n",
       "<style scoped>\n",
       "    .dataframe tbody tr th:only-of-type {\n",
       "        vertical-align: middle;\n",
       "    }\n",
       "\n",
       "    .dataframe tbody tr th {\n",
       "        vertical-align: top;\n",
       "    }\n",
       "\n",
       "    .dataframe thead th {\n",
       "        text-align: right;\n",
       "    }\n",
       "</style>\n",
       "<table border=\"1\" class=\"dataframe\">\n",
       "  <thead>\n",
       "    <tr style=\"text-align: right;\">\n",
       "      <th></th>\n",
       "      <th>Open</th>\n",
       "      <th>High</th>\n",
       "      <th>Low</th>\n",
       "      <th>Close</th>\n",
       "      <th>Adj Close</th>\n",
       "      <th>Volume</th>\n",
       "    </tr>\n",
       "    <tr>\n",
       "      <th>Date</th>\n",
       "      <th></th>\n",
       "      <th></th>\n",
       "      <th></th>\n",
       "      <th></th>\n",
       "      <th></th>\n",
       "      <th></th>\n",
       "    </tr>\n",
       "  </thead>\n",
       "  <tbody>\n",
       "    <tr>\n",
       "      <th>2024-03-22</th>\n",
       "      <td>1437.300049</td>\n",
       "      <td>1450.699951</td>\n",
       "      <td>1437.300049</td>\n",
       "      <td>1444.750000</td>\n",
       "      <td>1444.750000</td>\n",
       "      <td>495044</td>\n",
       "    </tr>\n",
       "    <tr>\n",
       "      <th>2024-03-21</th>\n",
       "      <td>1440.050049</td>\n",
       "      <td>1450.900024</td>\n",
       "      <td>1438.250000</td>\n",
       "      <td>1445.099976</td>\n",
       "      <td>1445.099976</td>\n",
       "      <td>727949</td>\n",
       "    </tr>\n",
       "    <tr>\n",
       "      <th>2024-03-20</th>\n",
       "      <td>1448.800049</td>\n",
       "      <td>1451.599976</td>\n",
       "      <td>1424.750000</td>\n",
       "      <td>1431.099976</td>\n",
       "      <td>1431.099976</td>\n",
       "      <td>211454</td>\n",
       "    </tr>\n",
       "    <tr>\n",
       "      <th>2024-03-19</th>\n",
       "      <td>1432.400024</td>\n",
       "      <td>1451.849976</td>\n",
       "      <td>1432.400024</td>\n",
       "      <td>1448.949951</td>\n",
       "      <td>1448.949951</td>\n",
       "      <td>478463</td>\n",
       "    </tr>\n",
       "    <tr>\n",
       "      <th>2024-03-18</th>\n",
       "      <td>1447.949951</td>\n",
       "      <td>1455.949951</td>\n",
       "      <td>1436.000000</td>\n",
       "      <td>1446.199951</td>\n",
       "      <td>1446.199951</td>\n",
       "      <td>339053</td>\n",
       "    </tr>\n",
       "  </tbody>\n",
       "</table>\n",
       "</div>"
      ],
      "text/plain": [
       "                   Open         High          Low        Close    Adj Close  \\\n",
       "Date                                                                          \n",
       "2024-03-22  1437.300049  1450.699951  1437.300049  1444.750000  1444.750000   \n",
       "2024-03-21  1440.050049  1450.900024  1438.250000  1445.099976  1445.099976   \n",
       "2024-03-20  1448.800049  1451.599976  1424.750000  1431.099976  1431.099976   \n",
       "2024-03-19  1432.400024  1451.849976  1432.400024  1448.949951  1448.949951   \n",
       "2024-03-18  1447.949951  1455.949951  1436.000000  1446.199951  1446.199951   \n",
       "\n",
       "            Volume  \n",
       "Date                \n",
       "2024-03-22  495044  \n",
       "2024-03-21  727949  \n",
       "2024-03-20  211454  \n",
       "2024-03-19  478463  \n",
       "2024-03-18  339053  "
      ]
     },
     "execution_count": 7,
     "metadata": {},
     "output_type": "execute_result"
    }
   ],
   "source": [
    "df_hdfc.sort_values(by='Date',ascending=False).head()"
   ]
  },
  {
   "cell_type": "code",
   "execution_count": null,
   "id": "62e681c7",
   "metadata": {},
   "outputs": [],
   "source": []
  }
 ],
 "metadata": {
  "kernelspec": {
   "display_name": "Python 3 (ipykernel)",
   "language": "python",
   "name": "python3"
  },
  "language_info": {
   "codemirror_mode": {
    "name": "ipython",
    "version": 3
   },
   "file_extension": ".py",
   "mimetype": "text/x-python",
   "name": "python",
   "nbconvert_exporter": "python",
   "pygments_lexer": "ipython3",
   "version": "3.9.7"
  }
 },
 "nbformat": 4,
 "nbformat_minor": 5
}
